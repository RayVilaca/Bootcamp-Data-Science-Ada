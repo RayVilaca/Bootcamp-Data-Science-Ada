{
 "cells": [
  {
   "cell_type": "markdown",
   "metadata": {},
   "source": [
    "## Projeto Final do Módulo de Técnicas de Programação I\n",
    "#### Descrição:\n",
    "    Análise Exploratória de Dados de Vendas Online\n",
    "### Regras:\n",
    "- Aplicar o conhecimento de Numpy, Pandas e Git vistos em aula\n",
    "\n",
    "#### Grupo composto por:\n",
    "- Rayssa Vilaça\n",
    "\n"
   ]
  },
  {
   "cell_type": "markdown",
   "metadata": {},
   "source": []
  }
 ],
 "metadata": {
  "language_info": {
   "name": "python"
  }
 },
 "nbformat": 4,
 "nbformat_minor": 2
}
